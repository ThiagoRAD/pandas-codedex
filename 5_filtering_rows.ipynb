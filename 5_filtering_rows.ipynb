{
 "cells": [
  {
   "cell_type": "code",
   "execution_count": 1,
   "id": "f7e0a57d",
   "metadata": {},
   "outputs": [],
   "source": [
    "import pandas as pd\n",
    "\n",
    "# D&D characters data\n",
    "characters_data = {\n",
    "  'name': ['Thorne', 'Elira', 'Glim', 'Brug', 'Nyx', 'Kael', 'Mira', 'Drogan', 'Zara', 'Fenwick'],\n",
    "  'race': ['Elf', 'Human', 'Gnome', 'Half-Orc', 'Tiefling', 'Dragonborn', 'Halfling', 'Dwarf', 'Aasimar', 'Goblin'],\n",
    "  'class': ['Ranger', 'Cleric', 'Wizard', 'Barbarian', 'Rogue', 'Paladin', 'Bard', 'Fighter', 'Sorcerer', 'Warlock'],\n",
    "  'level': [5, 3, 4, 2, 6, 7, 3, 5, 4, 2],\n",
    "  'hp': [42, 28, 33, 25, 48, 56, 30, 44, 36, 24],\n",
    "  'alignment': [\n",
    "    'Chaotic Good', 'Lawful Good', 'Neutral', 'Chaotic Neutral', 'Chaotic Evil',\n",
    "    'Lawful Neutral', 'Neutral Good', 'Neutral', 'Chaotic Good', 'Lawful Evil'\n",
    "  ]\n",
    "}\n",
    "\n",
    "# Create the DataFrame\n",
    "characters = pd.DataFrame(characters_data)"
   ]
  },
  {
   "cell_type": "code",
   "execution_count": 2,
   "id": "83b314b0",
   "metadata": {},
   "outputs": [
    {
     "data": {
      "text/html": [
       "<div>\n",
       "<style scoped>\n",
       "    .dataframe tbody tr th:only-of-type {\n",
       "        vertical-align: middle;\n",
       "    }\n",
       "\n",
       "    .dataframe tbody tr th {\n",
       "        vertical-align: top;\n",
       "    }\n",
       "\n",
       "    .dataframe thead th {\n",
       "        text-align: right;\n",
       "    }\n",
       "</style>\n",
       "<table border=\"1\" class=\"dataframe\">\n",
       "  <thead>\n",
       "    <tr style=\"text-align: right;\">\n",
       "      <th></th>\n",
       "      <th>name</th>\n",
       "      <th>race</th>\n",
       "      <th>class</th>\n",
       "      <th>level</th>\n",
       "      <th>hp</th>\n",
       "      <th>alignment</th>\n",
       "    </tr>\n",
       "  </thead>\n",
       "  <tbody>\n",
       "    <tr>\n",
       "      <th>0</th>\n",
       "      <td>Thorne</td>\n",
       "      <td>Elf</td>\n",
       "      <td>Ranger</td>\n",
       "      <td>5</td>\n",
       "      <td>42</td>\n",
       "      <td>Chaotic Good</td>\n",
       "    </tr>\n",
       "    <tr>\n",
       "      <th>4</th>\n",
       "      <td>Nyx</td>\n",
       "      <td>Tiefling</td>\n",
       "      <td>Rogue</td>\n",
       "      <td>6</td>\n",
       "      <td>48</td>\n",
       "      <td>Chaotic Evil</td>\n",
       "    </tr>\n",
       "    <tr>\n",
       "      <th>5</th>\n",
       "      <td>Kael</td>\n",
       "      <td>Dragonborn</td>\n",
       "      <td>Paladin</td>\n",
       "      <td>7</td>\n",
       "      <td>56</td>\n",
       "      <td>Lawful Neutral</td>\n",
       "    </tr>\n",
       "    <tr>\n",
       "      <th>7</th>\n",
       "      <td>Drogan</td>\n",
       "      <td>Dwarf</td>\n",
       "      <td>Fighter</td>\n",
       "      <td>5</td>\n",
       "      <td>44</td>\n",
       "      <td>Neutral</td>\n",
       "    </tr>\n",
       "  </tbody>\n",
       "</table>\n",
       "</div>"
      ],
      "text/plain": [
       "     name        race    class  level  hp       alignment\n",
       "0  Thorne         Elf   Ranger      5  42    Chaotic Good\n",
       "4     Nyx    Tiefling    Rogue      6  48    Chaotic Evil\n",
       "5    Kael  Dragonborn  Paladin      7  56  Lawful Neutral\n",
       "7  Drogan       Dwarf  Fighter      5  44         Neutral"
      ]
     },
     "execution_count": 2,
     "metadata": {},
     "output_type": "execute_result"
    }
   ],
   "source": [
    "high_level_characters = characters[characters['level'] > 4]\n",
    "high_level_characters"
   ]
  },
  {
   "cell_type": "code",
   "execution_count": null,
   "id": "7d648c76",
   "metadata": {},
   "outputs": [
    {
     "data": {
      "text/plain": [
       "0     True\n",
       "1    False\n",
       "2    False\n",
       "3    False\n",
       "4     True\n",
       "5     True\n",
       "6    False\n",
       "7     True\n",
       "8    False\n",
       "9    False\n",
       "Name: level, dtype: bool"
      ]
     },
     "execution_count": 3,
     "metadata": {},
     "output_type": "execute_result"
    }
   ],
   "source": [
    "characters['level'] > 4 # this is a series of boolean values"
   ]
  },
  {
   "cell_type": "code",
   "execution_count": 4,
   "id": "63d0c7eb",
   "metadata": {},
   "outputs": [],
   "source": [
    "high_hp_and_level = characters[(characters['hp'] > 40) & (characters['level'] > 4)]"
   ]
  },
  {
   "cell_type": "code",
   "execution_count": 5,
   "id": "d2b900a8",
   "metadata": {},
   "outputs": [
    {
     "data": {
      "text/html": [
       "<div>\n",
       "<style scoped>\n",
       "    .dataframe tbody tr th:only-of-type {\n",
       "        vertical-align: middle;\n",
       "    }\n",
       "\n",
       "    .dataframe tbody tr th {\n",
       "        vertical-align: top;\n",
       "    }\n",
       "\n",
       "    .dataframe thead th {\n",
       "        text-align: right;\n",
       "    }\n",
       "</style>\n",
       "<table border=\"1\" class=\"dataframe\">\n",
       "  <thead>\n",
       "    <tr style=\"text-align: right;\">\n",
       "      <th></th>\n",
       "      <th>name</th>\n",
       "      <th>race</th>\n",
       "      <th>class</th>\n",
       "      <th>level</th>\n",
       "      <th>hp</th>\n",
       "      <th>alignment</th>\n",
       "    </tr>\n",
       "  </thead>\n",
       "  <tbody>\n",
       "    <tr>\n",
       "      <th>0</th>\n",
       "      <td>Thorne</td>\n",
       "      <td>Elf</td>\n",
       "      <td>Ranger</td>\n",
       "      <td>5</td>\n",
       "      <td>42</td>\n",
       "      <td>Chaotic Good</td>\n",
       "    </tr>\n",
       "    <tr>\n",
       "      <th>4</th>\n",
       "      <td>Nyx</td>\n",
       "      <td>Tiefling</td>\n",
       "      <td>Rogue</td>\n",
       "      <td>6</td>\n",
       "      <td>48</td>\n",
       "      <td>Chaotic Evil</td>\n",
       "    </tr>\n",
       "    <tr>\n",
       "      <th>5</th>\n",
       "      <td>Kael</td>\n",
       "      <td>Dragonborn</td>\n",
       "      <td>Paladin</td>\n",
       "      <td>7</td>\n",
       "      <td>56</td>\n",
       "      <td>Lawful Neutral</td>\n",
       "    </tr>\n",
       "    <tr>\n",
       "      <th>7</th>\n",
       "      <td>Drogan</td>\n",
       "      <td>Dwarf</td>\n",
       "      <td>Fighter</td>\n",
       "      <td>5</td>\n",
       "      <td>44</td>\n",
       "      <td>Neutral</td>\n",
       "    </tr>\n",
       "  </tbody>\n",
       "</table>\n",
       "</div>"
      ],
      "text/plain": [
       "     name        race    class  level  hp       alignment\n",
       "0  Thorne         Elf   Ranger      5  42    Chaotic Good\n",
       "4     Nyx    Tiefling    Rogue      6  48    Chaotic Evil\n",
       "5    Kael  Dragonborn  Paladin      7  56  Lawful Neutral\n",
       "7  Drogan       Dwarf  Fighter      5  44         Neutral"
      ]
     },
     "execution_count": 5,
     "metadata": {},
     "output_type": "execute_result"
    }
   ],
   "source": [
    "high_hp_and_level"
   ]
  },
  {
   "cell_type": "code",
   "execution_count": 6,
   "id": "cfb21180",
   "metadata": {},
   "outputs": [],
   "source": [
    "low_hp_or_level = characters[(characters['hp'] < 30) | (characters['level'] < 3)]"
   ]
  },
  {
   "cell_type": "code",
   "execution_count": 7,
   "id": "49ab2b58",
   "metadata": {},
   "outputs": [
    {
     "data": {
      "text/html": [
       "<div>\n",
       "<style scoped>\n",
       "    .dataframe tbody tr th:only-of-type {\n",
       "        vertical-align: middle;\n",
       "    }\n",
       "\n",
       "    .dataframe tbody tr th {\n",
       "        vertical-align: top;\n",
       "    }\n",
       "\n",
       "    .dataframe thead th {\n",
       "        text-align: right;\n",
       "    }\n",
       "</style>\n",
       "<table border=\"1\" class=\"dataframe\">\n",
       "  <thead>\n",
       "    <tr style=\"text-align: right;\">\n",
       "      <th></th>\n",
       "      <th>name</th>\n",
       "      <th>race</th>\n",
       "      <th>class</th>\n",
       "      <th>level</th>\n",
       "      <th>hp</th>\n",
       "      <th>alignment</th>\n",
       "    </tr>\n",
       "  </thead>\n",
       "  <tbody>\n",
       "    <tr>\n",
       "      <th>1</th>\n",
       "      <td>Elira</td>\n",
       "      <td>Human</td>\n",
       "      <td>Cleric</td>\n",
       "      <td>3</td>\n",
       "      <td>28</td>\n",
       "      <td>Lawful Good</td>\n",
       "    </tr>\n",
       "    <tr>\n",
       "      <th>3</th>\n",
       "      <td>Brug</td>\n",
       "      <td>Half-Orc</td>\n",
       "      <td>Barbarian</td>\n",
       "      <td>2</td>\n",
       "      <td>25</td>\n",
       "      <td>Chaotic Neutral</td>\n",
       "    </tr>\n",
       "    <tr>\n",
       "      <th>9</th>\n",
       "      <td>Fenwick</td>\n",
       "      <td>Goblin</td>\n",
       "      <td>Warlock</td>\n",
       "      <td>2</td>\n",
       "      <td>24</td>\n",
       "      <td>Lawful Evil</td>\n",
       "    </tr>\n",
       "  </tbody>\n",
       "</table>\n",
       "</div>"
      ],
      "text/plain": [
       "      name      race      class  level  hp        alignment\n",
       "1    Elira     Human     Cleric      3  28      Lawful Good\n",
       "3     Brug  Half-Orc  Barbarian      2  25  Chaotic Neutral\n",
       "9  Fenwick    Goblin    Warlock      2  24      Lawful Evil"
      ]
     },
     "execution_count": 7,
     "metadata": {},
     "output_type": "execute_result"
    }
   ],
   "source": [
    "low_hp_or_level"
   ]
  },
  {
   "cell_type": "code",
   "execution_count": 8,
   "id": "88255f05",
   "metadata": {},
   "outputs": [],
   "source": [
    "halfling_bards = characters[(characters['race'] == 'Halfling') & (characters['class'] == 'Bard')]"
   ]
  },
  {
   "cell_type": "code",
   "execution_count": 9,
   "id": "2334bdc0",
   "metadata": {},
   "outputs": [
    {
     "data": {
      "text/html": [
       "<div>\n",
       "<style scoped>\n",
       "    .dataframe tbody tr th:only-of-type {\n",
       "        vertical-align: middle;\n",
       "    }\n",
       "\n",
       "    .dataframe tbody tr th {\n",
       "        vertical-align: top;\n",
       "    }\n",
       "\n",
       "    .dataframe thead th {\n",
       "        text-align: right;\n",
       "    }\n",
       "</style>\n",
       "<table border=\"1\" class=\"dataframe\">\n",
       "  <thead>\n",
       "    <tr style=\"text-align: right;\">\n",
       "      <th></th>\n",
       "      <th>name</th>\n",
       "      <th>race</th>\n",
       "      <th>class</th>\n",
       "      <th>level</th>\n",
       "      <th>hp</th>\n",
       "      <th>alignment</th>\n",
       "    </tr>\n",
       "  </thead>\n",
       "  <tbody>\n",
       "    <tr>\n",
       "      <th>6</th>\n",
       "      <td>Mira</td>\n",
       "      <td>Halfling</td>\n",
       "      <td>Bard</td>\n",
       "      <td>3</td>\n",
       "      <td>30</td>\n",
       "      <td>Neutral Good</td>\n",
       "    </tr>\n",
       "  </tbody>\n",
       "</table>\n",
       "</div>"
      ],
      "text/plain": [
       "   name      race class  level  hp     alignment\n",
       "6  Mira  Halfling  Bard      3  30  Neutral Good"
      ]
     },
     "execution_count": 9,
     "metadata": {},
     "output_type": "execute_result"
    }
   ],
   "source": [
    "halfling_bards"
   ]
  },
  {
   "cell_type": "code",
   "execution_count": 10,
   "id": "90fd3f82",
   "metadata": {},
   "outputs": [],
   "source": [
    "magic_users = characters[characters['class'].isin(['Wizard', 'Sorcerer', 'Warlock'])]"
   ]
  },
  {
   "cell_type": "code",
   "execution_count": 11,
   "id": "2863c910",
   "metadata": {},
   "outputs": [
    {
     "data": {
      "text/html": [
       "<div>\n",
       "<style scoped>\n",
       "    .dataframe tbody tr th:only-of-type {\n",
       "        vertical-align: middle;\n",
       "    }\n",
       "\n",
       "    .dataframe tbody tr th {\n",
       "        vertical-align: top;\n",
       "    }\n",
       "\n",
       "    .dataframe thead th {\n",
       "        text-align: right;\n",
       "    }\n",
       "</style>\n",
       "<table border=\"1\" class=\"dataframe\">\n",
       "  <thead>\n",
       "    <tr style=\"text-align: right;\">\n",
       "      <th></th>\n",
       "      <th>name</th>\n",
       "      <th>race</th>\n",
       "      <th>class</th>\n",
       "      <th>level</th>\n",
       "      <th>hp</th>\n",
       "      <th>alignment</th>\n",
       "    </tr>\n",
       "  </thead>\n",
       "  <tbody>\n",
       "    <tr>\n",
       "      <th>2</th>\n",
       "      <td>Glim</td>\n",
       "      <td>Gnome</td>\n",
       "      <td>Wizard</td>\n",
       "      <td>4</td>\n",
       "      <td>33</td>\n",
       "      <td>Neutral</td>\n",
       "    </tr>\n",
       "    <tr>\n",
       "      <th>8</th>\n",
       "      <td>Zara</td>\n",
       "      <td>Aasimar</td>\n",
       "      <td>Sorcerer</td>\n",
       "      <td>4</td>\n",
       "      <td>36</td>\n",
       "      <td>Chaotic Good</td>\n",
       "    </tr>\n",
       "    <tr>\n",
       "      <th>9</th>\n",
       "      <td>Fenwick</td>\n",
       "      <td>Goblin</td>\n",
       "      <td>Warlock</td>\n",
       "      <td>2</td>\n",
       "      <td>24</td>\n",
       "      <td>Lawful Evil</td>\n",
       "    </tr>\n",
       "  </tbody>\n",
       "</table>\n",
       "</div>"
      ],
      "text/plain": [
       "      name     race     class  level  hp     alignment\n",
       "2     Glim    Gnome    Wizard      4  33       Neutral\n",
       "8     Zara  Aasimar  Sorcerer      4  36  Chaotic Good\n",
       "9  Fenwick   Goblin   Warlock      2  24   Lawful Evil"
      ]
     },
     "execution_count": 11,
     "metadata": {},
     "output_type": "execute_result"
    }
   ],
   "source": [
    "magic_users"
   ]
  }
 ],
 "metadata": {
  "kernelspec": {
   "display_name": "Python 3",
   "language": "python",
   "name": "python3"
  },
  "language_info": {
   "codemirror_mode": {
    "name": "ipython",
    "version": 3
   },
   "file_extension": ".py",
   "mimetype": "text/x-python",
   "name": "python",
   "nbconvert_exporter": "python",
   "pygments_lexer": "ipython3",
   "version": "3.13.7"
  }
 },
 "nbformat": 4,
 "nbformat_minor": 5
}
