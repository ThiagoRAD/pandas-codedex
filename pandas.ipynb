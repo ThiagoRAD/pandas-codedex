{
 "cells": [
  {
   "cell_type": "code",
   "execution_count": 2,
   "id": "225ab69a",
   "metadata": {},
   "outputs": [],
   "source": [
    "import pandas as pd\n",
    "\n",
    "# Recent Oscar winners\n",
    "movie_data = {\n",
    "  'title': ['Parasite', 'Nomadland', 'CODA', 'Everything Everywhere All at Once', 'Oppenheimer', 'Anora'],\n",
    "  'release_date': ['2019-05-30', '2020-09-11', '2021-01-28', '2022-03-11', '2023-07-21', '2024-05-24'],\n",
    "  'genre': ['Thriller', 'Drama', 'Drama',  'Action', 'Biography', 'Drama'],\n",
    "  'studio': ['CJ Entertainment', 'Searchlight Pictures', 'Apple TV+', 'A24', 'Universal Pictures', 'A24'],\n",
    "  'budget': [11400000, 5000000, 10000000, 25000000, 100000000, 3000000],\n",
    "  'box_office': [263000000, 39000000, 1900000, 143000000, 975000000, 57000000],\n",
    "  'runtime_minutes': [132, 108, 111, 139, 180, 98],\n",
    "  'rating': [8.5, 7.3, 8.0, 8.0, 8.6, 8.1]\n",
    "}\n",
    "\n",
    "# Create the DataFrame\n",
    "movies = pd.DataFrame(movie_data)"
   ]
  },
  {
   "cell_type": "code",
   "execution_count": null,
   "id": "0a3cf1ae",
   "metadata": {},
   "outputs": [],
   "source": [
    "movies"
   ]
  },
  {
   "cell_type": "code",
   "execution_count": null,
   "id": "abe3c071",
   "metadata": {},
   "outputs": [],
   "source": []
  }
 ],
 "metadata": {
  "kernelspec": {
   "display_name": "Python 3",
   "language": "python",
   "name": "python3"
  },
  "language_info": {
   "codemirror_mode": {
    "name": "ipython",
    "version": 3
   },
   "file_extension": ".py",
   "mimetype": "text/x-python",
   "name": "python",
   "nbconvert_exporter": "python",
   "pygments_lexer": "ipython3",
   "version": "3.13.7"
  }
 },
 "nbformat": 4,
 "nbformat_minor": 5
}
